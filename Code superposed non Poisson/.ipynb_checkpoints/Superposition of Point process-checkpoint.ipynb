{
 "cells": [
  {
   "cell_type": "code",
   "execution_count": 2,
   "id": "c768fb36",
   "metadata": {
    "ExecuteTime": {
     "end_time": "2022-02-07T04:14:34.324516Z",
     "start_time": "2022-02-07T04:14:34.286589Z"
    }
   },
   "outputs": [
    {
     "data": {
      "text/html": [
       "<style>.container { width:70% !important; }</style>"
      ],
      "text/plain": [
       "<IPython.core.display.HTML object>"
      ]
     },
     "metadata": {},
     "output_type": "display_data"
    }
   ],
   "source": [
    "from IPython.core.display import display, HTML\n",
    "display(HTML(\"<style>.container { width:70% !important; }</style>\"))\n",
    "import numpy as np; np.set_printoptions(linewidth=110);\n",
    "import pandas as pd; pd.set_option(\"display.max_columns\", None)\n",
    "\n",
    "import os\n",
    "import sys\n",
    "from sys import platform\n",
    "\n",
    "import matplotlib.pyplot as plt\n",
    "import scipy\n",
    "import seaborn\n",
    "from tqdm import tqdm\n",
    "from tqdm.notebook import trange\n",
    "import time\n",
    "import functools"
   ]
  },
  {
   "cell_type": "code",
   "execution_count": 3,
   "id": "4e52eebe",
   "metadata": {
    "ExecuteTime": {
     "end_time": "2022-02-07T04:14:47.642669Z",
     "start_time": "2022-02-07T04:14:47.599560Z"
    }
   },
   "outputs": [],
   "source": [
    "def generate_spikes(R, T, alpha, beta):\n",
    "    print('mean FR', beta/alpha, '\\tCV', 1/np.sqrt(alpha))  # var=alpha/beta^2, mean=alpha/beta\n",
    "\n",
    "    T_start = 0\n",
    "    spike_times = [0] * R\n",
    "\n",
    "    for r in tqdm(range(R), ncols=120, file=sys.stdout):\n",
    "        spike_trail = []\n",
    "        curr_t = -50  # Start far from origin.\n",
    "        while curr_t < T:\n",
    "            isi = np.random.gamma(alpha, 1/beta, 1)[0]\n",
    "    #         print(isi)\n",
    "            curr_t = curr_t + isi\n",
    "            if curr_t >= 0 and curr_t < T:\n",
    "                spike_trail.append(curr_t)\n",
    "        spike_times[r] = spike_trail\n",
    "    return spike_times\n",
    "\n",
    "def plot_isi_distribution(isi_list):\n",
    "    lambda_hat = np.mean(isi_list)\n",
    "    t = np.linspace(0, 5*lambda_hat, 1000)\n",
    "    plt.figure(figsize=[4, 3])\n",
    "    seaborn.distplot(isi_list, bins=100, kde=False, norm_hist=True, label='isi distribution')\n",
    "    plt.plot(t, scipy.stats.expon.pdf(t, scale=lambda_hat), c='r', label='Estimated Exponential')\n",
    "    plt.legend(loc=[1.02, 0])\n",
    "    plt.xlim(0, 5*lambda_hat)\n"
   ]
  },
  {
   "cell_type": "code",
   "execution_count": 4,
   "id": "78be0244",
   "metadata": {
    "ExecuteTime": {
     "end_time": "2022-02-07T04:14:56.972666Z",
     "start_time": "2022-02-07T04:14:56.135462Z"
    }
   },
   "outputs": [
    {
     "name": "stdout",
     "output_type": "stream",
     "text": [
      "mean FR 25.0 \tCV 0.75\n",
      "100%|█████████████████████████████████████████████████████████████████████████████████████| 2/2 [00:00<00:00,  3.97it/s]\n"
     ]
    },
    {
     "name": "stderr",
     "output_type": "stream",
     "text": [
      "D:\\Anaconda3\\lib\\site-packages\\seaborn\\distributions.py:2557: FutureWarning: `distplot` is a deprecated function and will be removed in a future version. Please adapt your code to use either `displot` (a figure-level function with similar flexibility) or `histplot` (an axes-level function for histograms).\n",
      "  warnings.warn(msg, FutureWarning)\n"
     ]
    },
    {
     "data": {
      "image/png": "[encoded data removed]",
      "text/plain": [
       "<Figure size 288x216 with 1 Axes>"
      ]
     },
     "metadata": {
      "needs_background": "light"
     },
     "output_type": "display_data"
    }
   ],
   "source": [
    "CV = 0.75\n",
    "fr = 25\n",
    "alpha = (1/CV**2)\n",
    "beta = alpha*fr\n",
    "\n",
    "spike_times = generate_spikes(R=2, T=2000, alpha=alpha, beta=beta)\n",
    "merged_spike_times = functools.reduce(lambda x, y: x+y, spike_times)\n",
    "merged_spike_times = np.sort(merged_spike_times)\n",
    "merged_isi = np.diff(merged_spike_times)\n",
    "plot_isi_distribution(merged_isi)"
   ]
  },
  {
   "cell_type": "code",
   "execution_count": 202,
   "id": "f99d4fd2",
   "metadata": {},
   "outputs": [
    {
     "name": "stdout",
     "output_type": "stream",
     "text": [
      "mean FR 25.0 \tCV 0.75\n",
      "100%|██████████████████████████████████████████████████████████████████████████████| 2000/2000 [00:17<00:00, 116.37it/s]\n"
     ]
    },
    {
     "data": {
      "image/png": "[encoded data removed]",
      "text/plain": [
       "<Figure size 288x216 with 1 Axes>"
      ]
     },
     "metadata": {
      "needs_background": "light"
     },
     "output_type": "display_data"
    }
   ],
   "source": [
    "CV = 0.75\n",
    "fr = 25\n",
    "alpha = (1/CV**2)\n",
    "beta = alpha*fr\n",
    "\n",
    "spike_times = generate_spikes(R=2000, T=2, alpha=alpha, beta=beta)\n",
    "merged_spike_times = functools.reduce(lambda x, y: x+y, spike_times)\n",
    "merged_spike_times = np.sort(merged_spike_times)\n",
    "merged_isi = np.diff(merged_spike_times)\n",
    "plot_isi_distribution(merged_isi)"
   ]
  },
  {
   "cell_type": "code",
   "execution_count": null,
   "id": "16846ab6",
   "metadata": {},
   "outputs": [],
   "source": []
  },
  {
   "cell_type": "code",
   "execution_count": 207,
   "id": "82898acb",
   "metadata": {},
   "outputs": [
    {
     "name": "stdout",
     "output_type": "stream",
     "text": [
      "0.039472408988157986 0.029599623286284876\n",
      "FR 25.33415176915114\n",
      "CV 0.7498813486444412\n"
     ]
    },
    {
     "data": {
      "image/png": "[encoded data removed]",
      "text/plain": [
       "<Figure size 432x288 with 1 Axes>"
      ]
     },
     "metadata": {
      "needs_background": "light"
     },
     "output_type": "display_data"
    }
   ],
   "source": [
    "CV = 0.75\n",
    "fr = 25\n",
    "alpha = (1/CV**2)\n",
    "beta = alpha*fr\n",
    "\n",
    "samples = np.random.gamma(alpha, 1/beta, 5000)\n",
    "seaborn.distplot(samples, bins=100, kde=False)\n",
    "\n",
    "print(np.mean(samples), np.std(samples))\n",
    "print('FR', 1 / np.mean(samples))\n",
    "print('CV', np.std(samples)/np.mean(samples))"
   ]
  },
  {
   "cell_type": "code",
   "execution_count": null,
   "id": "3438d844",
   "metadata": {},
   "outputs": [],
   "source": []
  },
  {
   "cell_type": "code",
   "execution_count": null,
   "id": "71a7b628",
   "metadata": {},
   "outputs": [],
   "source": []
  }
 ],
 "metadata": {
  "kernelspec": {
   "display_name": "Python 3",
   "language": "python",
   "name": "python3"
  },
  "language_info": {
   "codemirror_mode": {
    "name": "ipython",
    "version": 3
   },
   "file_extension": ".py",
   "mimetype": "text/x-python",
   "name": "python",
   "nbconvert_exporter": "python",
   "pygments_lexer": "ipython3",
   "version": "3.8.8"
  },
  "latex_envs": {
   "LaTeX_envs_menu_present": true,
   "autoclose": false,
   "autocomplete": true,
   "bibliofile": "biblio.bib",
   "cite_by": "apalike",
   "current_citInitial": 1,
   "eqLabelWithNumbers": true,
   "eqNumInitial": 1,
   "hotkeys": {
    "equation": "Ctrl-E",
    "itemize": "Ctrl-I"
   },
   "labels_anchors": false,
   "latex_user_defs": false,
   "report_style_numbering": false,
   "user_envs_cfg": false
  },
  "toc": {
   "base_numbering": 1,
   "nav_menu": {},
   "number_sections": true,
   "sideBar": true,
   "skip_h1_title": false,
   "title_cell": "Table of Contents",
   "title_sidebar": "Contents",
   "toc_cell": false,
   "toc_position": {},
   "toc_section_display": true,
   "toc_window_display": false
  },
  "varInspector": {
   "cols": {
    "lenName": 16,
    "lenType": 16,
    "lenVar": 40
   },
   "kernels_config": {
    "python": {
     "delete_cmd_postfix": "",
     "delete_cmd_prefix": "del ",
     "library": "var_list.py",
     "varRefreshCmd": "print(var_dic_list())"
    },
    "r": {
     "delete_cmd_postfix": ") ",
     "delete_cmd_prefix": "rm(",
     "library": "var_list.r",
     "varRefreshCmd": "cat(var_dic_list()) "
    }
   },
   "types_to_exclude": [
    "module",
    "function",
    "builtin_function_or_method",
    "instance",
    "_Feature"
   ],
   "window_display": true
  }
 },
 "nbformat": 4,
 "nbformat_minor": 5
}
