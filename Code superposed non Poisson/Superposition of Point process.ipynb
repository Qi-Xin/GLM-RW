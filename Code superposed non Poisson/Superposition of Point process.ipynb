{
 "cells": [
  {
   "cell_type": "code",
   "execution_count": 2,
   "id": "c768fb36",
   "metadata": {
    "ExecuteTime": {
     "end_time": "2022-02-07T04:14:34.324516Z",
     "start_time": "2022-02-07T04:14:34.286589Z"
    }
   },
   "outputs": [
    {
     "data": {
      "text/html": [
       "<style>.container { width:70% !important; }</style>"
      ],
      "text/plain": [
       "<IPython.core.display.HTML object>"
      ]
     },
     "metadata": {},
     "output_type": "display_data"
    }
   ],
   "source": [
    "from IPython.core.display import display, HTML\n",
    "display(HTML(\"<style>.container { width:70% !important; }</style>\"))\n",
    "import numpy as np; np.set_printoptions(linewidth=110);\n",
    "import pandas as pd; pd.set_option(\"display.max_columns\", None)\n",
    "\n",
    "import os\n",
    "import sys\n",
    "from sys import platform\n",
    "\n",
    "import matplotlib.pyplot as plt\n",
    "import scipy\n",
    "import seaborn\n",
    "from tqdm import tqdm\n",
    "from tqdm.notebook import trange\n",
    "import time\n",
    "import functools"
   ]
  },
  {
   "cell_type": "code",
   "execution_count": 30,
   "id": "4e52eebe",
   "metadata": {
    "ExecuteTime": {
     "end_time": "2022-02-07T06:08:52.872849Z",
     "start_time": "2022-02-07T06:08:52.834925Z"
    }
   },
   "outputs": [],
   "source": [
    "def generate_spikes(R, T, alpha, beta, dist):\n",
    "    \n",
    "    print('mean FR', beta/alpha, '\\tCV', 1/np.sqrt(alpha))  # var=alpha/beta^2, mean=alpha/beta\n",
    "\n",
    "    T_start = 0\n",
    "    spike_times = [0] * R\n",
    "\n",
    "    for r in tqdm(range(R), ncols=120, file=sys.stdout):\n",
    "        spike_trail = []\n",
    "        curr_t = -1  # Start far from origin.\n",
    "        while curr_t < T:\n",
    "            if dist == \"gamma\":\n",
    "                isi = np.random.gamma(alpha, 1/beta, 1)[0]\n",
    "            else:\n",
    "                isi = np.random.wald(alpha, beta, 1)[0]\n",
    "    #         print(isi)\n",
    "            curr_t = curr_t + isi\n",
    "            if curr_t >= 0 and curr_t < T:\n",
    "                spike_trail.append(curr_t)\n",
    "        spike_times[r] = spike_trail\n",
    "    return spike_times\n",
    "\n",
    "def plot_isi_distribution(isi_list):\n",
    "    lambda_hat = np.mean(isi_list)\n",
    "    t = np.linspace(0, 5*lambda_hat, 1000)\n",
    "    plt.figure(figsize=[4, 3])\n",
    "    seaborn.distplot(isi_list, bins=100, kde=False, norm_hist=True, label='isi distribution')\n",
    "    plt.plot(t, scipy.stats.expon.pdf(t, scale=lambda_hat), c='r', label='Estimated Exponential')\n",
    "    plt.legend(loc=[1.02, 0])\n",
    "    plt.xlim(0, 5*lambda_hat)\n"
   ]
  },
  {
   "cell_type": "code",
   "execution_count": 29,
   "id": "077f1c83",
   "metadata": {
    "ExecuteTime": {
     "end_time": "2022-02-07T06:08:00.816859Z",
     "start_time": "2022-02-07T06:08:00.770955Z"
    }
   },
   "outputs": [
    {
     "data": {
      "text/plain": [
       "0.7574686357246634"
      ]
     },
     "execution_count": 29,
     "metadata": {},
     "output_type": "execute_result"
    }
   ],
   "source": [
    "isi = np.random.wald(mu, lambd, 10000)\n",
    "isi.std()/isi.mean()"
   ]
  },
  {
   "cell_type": "code",
   "execution_count": 95,
   "id": "78be0244",
   "metadata": {
    "ExecuteTime": {
     "end_time": "2022-02-07T06:42:23.619501Z",
     "start_time": "2022-02-07T06:42:23.322881Z"
    }
   },
   "outputs": [
    {
     "name": "stdout",
     "output_type": "stream",
     "text": [
      "mean FR 1.7777777777777777 \tCV 5.0\n",
      "100%|███████████████████████████████████████████████████████████████████████████████| 500/500 [00:00<00:00, 8848.15it/s]\n"
     ]
    },
    {
     "data": {
      "image/png": "[encoded data removed]",
      "text/plain": [
       "<Figure size 288x216 with 1 Axes>"
      ]
     },
     "metadata": {
      "needs_background": "light"
     },
     "output_type": "display_data"
    }
   ],
   "source": [
    "# dist = \"gamma\"\n",
    "dist = \"invgauss\"\n",
    "\n",
    "if dist == \"gamma\":\n",
    "    CV = 0.75\n",
    "    fr = 25\n",
    "    alpha = (1/CV**2)\n",
    "    beta = alpha*fr\n",
    "    spike_times = generate_spikes(R=500, T=1, alpha=alpha, beta=beta, dist=dist)\n",
    "else:\n",
    "    CV = 0.75\n",
    "    fr = 25\n",
    "    mu = 1.0/fr\n",
    "    lambd = 1.0/CV**2 *mu\n",
    "    spike_times = generate_spikes(R=500, T=1, alpha=mu, beta=lambd, dist=dist)\n",
    "    \n",
    "merged_spike_times = functools.reduce(lambda x, y: x+y, spike_times)\n",
    "merged_spike_times = np.sort(merged_spike_times)\n",
    "merged_isi = np.diff(merged_spike_times)\n",
    "plot_isi_distribution(merged_isi)"
   ]
  },
  {
   "cell_type": "code",
   "execution_count": 96,
   "id": "b1444114",
   "metadata": {
    "ExecuteTime": {
     "end_time": "2022-02-07T06:42:34.922586Z",
     "start_time": "2022-02-07T06:42:34.706078Z"
    }
   },
   "outputs": [
    {
     "name": "stderr",
     "output_type": "stream",
     "text": [
      "D:\\Anaconda3\\lib\\site-packages\\seaborn\\distributions.py:2557: FutureWarning: `distplot` is a deprecated function and will be removed in a future version. Please adapt your code to use either `displot` (a figure-level function with similar flexibility) or `histplot` (an axes-level function for histograms).\n",
      "  warnings.warn(msg, FutureWarning)\n"
     ]
    },
    {
     "data": {
      "text/plain": [
       "Text(0.5, 1.0, 'PSTH')"
      ]
     },
     "execution_count": 96,
     "metadata": {},
     "output_type": "execute_result"
    },
    {
     "data": {
      "image/png": "[encoded data removed]",
      "text/plain": [
       "<Figure size 432x288 with 1 Axes>"
      ]
     },
     "metadata": {
      "needs_background": "light"
     },
     "output_type": "display_data"
    }
   ],
   "source": [
    "seaborn.distplot(merged_spike_times, bins=100, kde=False)\n",
    "plt.xlabel(\"t\")\n",
    "plt.ylabel(\"num of trial\")\n",
    "plt.title(\"PSTH\")"
   ]
  },
  {
   "cell_type": "code",
   "execution_count": 100,
   "id": "3438d844",
   "metadata": {
    "ExecuteTime": {
     "end_time": "2022-02-07T06:46:51.672064Z",
     "start_time": "2022-02-07T06:46:51.458543Z"
    }
   },
   "outputs": [
    {
     "data": {
      "text/plain": [
       "Power_divergenceResult(statistic=85.56111645813282, pvalue=0.8299829869804694)"
      ]
     },
     "execution_count": 100,
     "metadata": {},
     "output_type": "execute_result"
    },
    {
     "data": {
      "image/png": "[encoded data removed]",
      "text/plain": [
       "<Figure size 432x288 with 1 Axes>"
      ]
     },
     "metadata": {
      "needs_background": "light"
     },
     "output_type": "display_data"
    }
   ],
   "source": [
    "import matplotlib.pyplot as plt\n",
    "psth = plt.hist(merged_spike_times, bins=100)\n",
    "psth = psth[0]\n",
    "scipy.stats.chisquare(psth)"
   ]
  },
  {
   "cell_type": "code",
   "execution_count": 101,
   "id": "ea471dd1",
   "metadata": {
    "ExecuteTime": {
     "end_time": "2022-02-07T06:46:54.697879Z",
     "start_time": "2022-02-07T06:46:54.650897Z"
    }
   },
   "outputs": [
    {
     "data": {
      "text/plain": [
       "KstestResult(statistic=0.004154627809156652, pvalue=0.981908401484766)"
      ]
     },
     "execution_count": 101,
     "metadata": {},
     "output_type": "execute_result"
    }
   ],
   "source": [
    "scipy.stats.kstest(merged_spike_times, \"uniform\")"
   ]
  },
  {
   "cell_type": "code",
   "execution_count": 92,
   "id": "71a7b628",
   "metadata": {
    "ExecuteTime": {
     "end_time": "2022-02-07T06:39:37.805208Z",
     "start_time": "2022-02-07T06:39:37.084518Z"
    }
   },
   "outputs": [
    {
     "name": "stdout",
     "output_type": "stream",
     "text": [
      "mean FR 1.7777777777777777 \tCV 5.0\n",
      "100%|█████████████████████████████████████████████████████████████████████████████████████| 1/1 [00:00<00:00,  2.08it/s]\n"
     ]
    },
    {
     "data": {
      "text/plain": [
       "Text(0.5, 1.0, 'PSTH')"
      ]
     },
     "execution_count": 92,
     "metadata": {},
     "output_type": "execute_result"
    },
    {
     "data": {
      "image/png": "[encoded data removed]",
      "text/plain": [
       "<Figure size 432x288 with 1 Axes>"
      ]
     },
     "metadata": {
      "needs_background": "light"
     },
     "output_type": "display_data"
    }
   ],
   "source": [
    "CV = 0.75\n",
    "fr = 25\n",
    "mu = 1.0/fr\n",
    "lambd = 1.0/CV**2 *mu\n",
    "spike_times = generate_spikes(R=1, T=1e4, alpha=mu, beta=lambd, dist=dist)\n",
    "merged_spike_times = functools.reduce(lambda x, y: x+y, spike_times)\n",
    "merged_spike_times = np.sort(merged_spike_times)\n",
    "seaborn.distplot(merged_spike_times, bins=100, kde=False)\n",
    "plt.xlabel(\"t\")\n",
    "plt.ylabel(\"num of trial\")\n",
    "plt.title(\"PSTH\")\n",
    "\n"
   ]
  },
  {
   "cell_type": "code",
   "execution_count": 94,
   "id": "6bd54241",
   "metadata": {
    "ExecuteTime": {
     "end_time": "2022-02-07T06:39:50.898833Z",
     "start_time": "2022-02-07T06:39:49.777856Z"
    }
   },
   "outputs": [
    {
     "data": {
      "text/plain": [
       "Power_divergenceResult(statistic=553.1629917163552, pvalue=1.0)"
      ]
     },
     "execution_count": 94,
     "metadata": {},
     "output_type": "execute_result"
    },
    {
     "data": {
      "image/png": "[encoded data removed]",
      "text/plain": [
       "<Figure size 432x288 with 1 Axes>"
      ]
     },
     "metadata": {
      "needs_background": "light"
     },
     "output_type": "display_data"
    }
   ],
   "source": [
    "psth = plt.hist(merged_spike_times, bins=100)\n",
    "psth = psth[0]\n",
    "scipy.stats.chisquare(psth)"
   ]
  },
  {
   "cell_type": "code",
   "execution_count": null,
   "id": "9484d2b9",
   "metadata": {},
   "outputs": [],
   "source": []
  }
 ],
 "metadata": {
  "kernelspec": {
   "display_name": "Python 3",
   "language": "python",
   "name": "python3"
  },
  "language_info": {
   "codemirror_mode": {
    "name": "ipython",
    "version": 3
   },
   "file_extension": ".py",
   "mimetype": "text/x-python",
   "name": "python",
   "nbconvert_exporter": "python",
   "pygments_lexer": "ipython3",
   "version": "3.8.8"
  },
  "latex_envs": {
   "LaTeX_envs_menu_present": true,
   "autoclose": false,
   "autocomplete": true,
   "bibliofile": "biblio.bib",
   "cite_by": "apalike",
   "current_citInitial": 1,
   "eqLabelWithNumbers": true,
   "eqNumInitial": 1,
   "hotkeys": {
    "equation": "Ctrl-E",
    "itemize": "Ctrl-I"
   },
   "labels_anchors": false,
   "latex_user_defs": false,
   "report_style_numbering": false,
   "user_envs_cfg": false
  },
  "toc": {
   "base_numbering": 1,
   "nav_menu": {},
   "number_sections": true,
   "sideBar": true,
   "skip_h1_title": false,
   "title_cell": "Table of Contents",
   "title_sidebar": "Contents",
   "toc_cell": false,
   "toc_position": {},
   "toc_section_display": true,
   "toc_window_display": false
  },
  "varInspector": {
   "cols": {
    "lenName": 16,
    "lenType": 16,
    "lenVar": 40
   },
   "kernels_config": {
    "python": {
     "delete_cmd_postfix": "",
     "delete_cmd_prefix": "del ",
     "library": "var_list.py",
     "varRefreshCmd": "print(var_dic_list())"
    },
    "r": {
     "delete_cmd_postfix": ") ",
     "delete_cmd_prefix": "rm(",
     "library": "var_list.r",
     "varRefreshCmd": "cat(var_dic_list()) "
    }
   },
   "position": {
    "height": "838.844px",
    "left": "1380px",
    "right": "20px",
    "top": "124px",
    "width": "350px"
   },
   "types_to_exclude": [
    "module",
    "function",
    "builtin_function_or_method",
    "instance",
    "_Feature"
   ],
   "window_display": true
  }
 },
 "nbformat": 4,
 "nbformat_minor": 5
}
